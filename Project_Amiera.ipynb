{
 "cells": [
  {
   "cell_type": "code",
   "execution_count": 18,
   "metadata": {},
   "outputs": [],
   "source": [
    "import pandas as pd\n",
    "import numpy as np\n",
    "from sklearn import datasets\n",
    "import seaborn as sns #visualisation\n",
    "import matplotlib.pyplot as plt #visualisation\n",
    "%matplotlib inline \n",
    "sns.set(color_codes=True)"
   ]
  },
  {
   "cell_type": "code",
   "execution_count": 19,
   "metadata": {},
   "outputs": [],
   "source": [
    "df=pd.read_csv('Laundry_Data.csv')"
   ]
  },
  {
   "cell_type": "markdown",
   "metadata": {},
   "source": [
    "# Data Cleaning\n"
   ]
  },
  {
   "cell_type": "code",
   "execution_count": 20,
   "metadata": {},
   "outputs": [
    {
     "name": "stdout",
     "output_type": "stream",
     "text": [
      "<class 'pandas.core.frame.DataFrame'>\n",
      "RangeIndex: 807 entries, 0 to 806\n",
      "Data columns (total 20 columns):\n",
      " #   Column         Non-Null Count  Dtype  \n",
      "---  ------         --------------  -----  \n",
      " 0   No             807 non-null    int64  \n",
      " 1   Date           807 non-null    object \n",
      " 2   Time           807 non-null    object \n",
      " 3   Race           752 non-null    object \n",
      " 4   Gender         716 non-null    object \n",
      " 5   Body_Size      709 non-null    object \n",
      " 6   Age_Range      756 non-null    float64\n",
      " 7   With_Kids      725 non-null    object \n",
      " 8   Kids_Category  777 non-null    object \n",
      " 9   Basket_Size    752 non-null    object \n",
      " 10  Basket_colour  717 non-null    object \n",
      " 11  Attire         776 non-null    object \n",
      " 12  Shirt_Colour   720 non-null    object \n",
      " 13  shirt_type     770 non-null    object \n",
      " 14  Pants_Colour   802 non-null    object \n",
      " 15  pants_type     712 non-null    object \n",
      " 16  Wash_Item      718 non-null    object \n",
      " 17  Washer_No      807 non-null    int64  \n",
      " 18  Dryer_No       807 non-null    int64  \n",
      " 19  Spectacles     807 non-null    object \n",
      "dtypes: float64(1), int64(3), object(16)\n",
      "memory usage: 126.2+ KB\n"
     ]
    }
   ],
   "source": [
    "df.info()\n",
    "#df"
   ]
  },
  {
   "cell_type": "code",
   "execution_count": 21,
   "metadata": {},
   "outputs": [],
   "source": [
    "def fill_null_val(df):\n",
    "    return df.fillna('Unknown')\n",
    "\n",
    "def change_to_dateTime(df):\n",
    "    datetimeCol=pd.to_datetime(df['Date'], infer_datetime_format=True)\n",
    "    return df.assign(Date=datetimeCol)\n",
    "\n",
    "def get_day_col(df):\n",
    "    dayCol=pd.DatetimeIndex(df['Date']).day\n",
    "    return df.assign(Day=dayCol)\n",
    "\n",
    "def get_month_col(df):\n",
    "    monthCol=pd.DatetimeIndex(df['Date']).month\n",
    "    return df.assign(Month=monthCol)\n",
    "\n",
    "def fill_age(df):\n",
    "    age=df['Age_Range'].fillna(round(df['Age_Range'].mean()))\n",
    "    return df.assign(Age_Range=age)\n",
    "\n",
    "def fill_withKids_yes(df):\n",
    "    with_kids = np.where(df[\"Kids_Category\"]=='no_kids',df['With_Kids'],'yes')\n",
    "    return df.assign(With_Kids=with_kids)\n",
    "\n",
    "def fill_withKids_no(df):\n",
    "    with_kids = np.where(df[\"Kids_Category\"]!='no_kids',df['With_Kids'],'no')\n",
    "    return df.assign(With_Kids=with_kids)"
   ]
  },
  {
   "cell_type": "code",
   "execution_count": 22,
   "metadata": {},
   "outputs": [
    {
     "data": {
      "text/html": [
       "<div>\n",
       "<style scoped>\n",
       "    .dataframe tbody tr th:only-of-type {\n",
       "        vertical-align: middle;\n",
       "    }\n",
       "\n",
       "    .dataframe tbody tr th {\n",
       "        vertical-align: top;\n",
       "    }\n",
       "\n",
       "    .dataframe thead th {\n",
       "        text-align: right;\n",
       "    }\n",
       "</style>\n",
       "<table border=\"1\" class=\"dataframe\">\n",
       "  <thead>\n",
       "    <tr style=\"text-align: right;\">\n",
       "      <th></th>\n",
       "      <th>No</th>\n",
       "      <th>Date</th>\n",
       "      <th>Time</th>\n",
       "      <th>Race</th>\n",
       "      <th>Gender</th>\n",
       "      <th>Body_Size</th>\n",
       "      <th>Age_Range</th>\n",
       "      <th>With_Kids</th>\n",
       "      <th>Kids_Category</th>\n",
       "      <th>Basket_Size</th>\n",
       "      <th>Basket_colour</th>\n",
       "      <th>Attire</th>\n",
       "      <th>Shirt_Colour</th>\n",
       "      <th>shirt_type</th>\n",
       "      <th>Pants_Colour</th>\n",
       "      <th>pants_type</th>\n",
       "      <th>Wash_Item</th>\n",
       "      <th>Washer_No</th>\n",
       "      <th>Dryer_No</th>\n",
       "      <th>Spectacles</th>\n",
       "    </tr>\n",
       "  </thead>\n",
       "  <tbody>\n",
       "    <tr>\n",
       "      <th>0</th>\n",
       "      <td>1</td>\n",
       "      <td>19/10/2015</td>\n",
       "      <td>20:17:50</td>\n",
       "      <td>malay</td>\n",
       "      <td>NaN</td>\n",
       "      <td>moderate</td>\n",
       "      <td>NaN</td>\n",
       "      <td>yes</td>\n",
       "      <td>young</td>\n",
       "      <td>big</td>\n",
       "      <td>red</td>\n",
       "      <td>casual</td>\n",
       "      <td>blue</td>\n",
       "      <td>short_sleeve</td>\n",
       "      <td>black</td>\n",
       "      <td>short</td>\n",
       "      <td>clothes</td>\n",
       "      <td>3</td>\n",
       "      <td>10</td>\n",
       "      <td>no</td>\n",
       "    </tr>\n",
       "    <tr>\n",
       "      <th>1</th>\n",
       "      <td>2</td>\n",
       "      <td>19/10/2015</td>\n",
       "      <td>20:28:42</td>\n",
       "      <td>indian</td>\n",
       "      <td>male</td>\n",
       "      <td>thin</td>\n",
       "      <td>32.0</td>\n",
       "      <td>no</td>\n",
       "      <td>no_kids</td>\n",
       "      <td>big</td>\n",
       "      <td>green</td>\n",
       "      <td>casual</td>\n",
       "      <td>NaN</td>\n",
       "      <td>short_sleeve</td>\n",
       "      <td>blue_jeans</td>\n",
       "      <td>long</td>\n",
       "      <td>NaN</td>\n",
       "      <td>6</td>\n",
       "      <td>9</td>\n",
       "      <td>no</td>\n",
       "    </tr>\n",
       "    <tr>\n",
       "      <th>2</th>\n",
       "      <td>3</td>\n",
       "      <td>19/10/2015</td>\n",
       "      <td>20:58:31</td>\n",
       "      <td>malay</td>\n",
       "      <td>female</td>\n",
       "      <td>NaN</td>\n",
       "      <td>30.0</td>\n",
       "      <td>no</td>\n",
       "      <td>no_kids</td>\n",
       "      <td>big</td>\n",
       "      <td>blue</td>\n",
       "      <td>casual</td>\n",
       "      <td>red</td>\n",
       "      <td>short_sleeve</td>\n",
       "      <td>black</td>\n",
       "      <td>long</td>\n",
       "      <td>NaN</td>\n",
       "      <td>4</td>\n",
       "      <td>10</td>\n",
       "      <td>no</td>\n",
       "    </tr>\n",
       "    <tr>\n",
       "      <th>3</th>\n",
       "      <td>4</td>\n",
       "      <td>19/10/2015</td>\n",
       "      <td>21:31:28</td>\n",
       "      <td>indian</td>\n",
       "      <td>male</td>\n",
       "      <td>thin</td>\n",
       "      <td>51.0</td>\n",
       "      <td>no</td>\n",
       "      <td>no_kids</td>\n",
       "      <td>NaN</td>\n",
       "      <td>black</td>\n",
       "      <td>casual</td>\n",
       "      <td>NaN</td>\n",
       "      <td>short_sleeve</td>\n",
       "      <td>yellow</td>\n",
       "      <td>short</td>\n",
       "      <td>clothes</td>\n",
       "      <td>5</td>\n",
       "      <td>9</td>\n",
       "      <td>no</td>\n",
       "    </tr>\n",
       "    <tr>\n",
       "      <th>4</th>\n",
       "      <td>5</td>\n",
       "      <td>19/10/2015</td>\n",
       "      <td>21:40:28</td>\n",
       "      <td>indian</td>\n",
       "      <td>male</td>\n",
       "      <td>moderate</td>\n",
       "      <td>34.0</td>\n",
       "      <td>no</td>\n",
       "      <td>no_kids</td>\n",
       "      <td>big</td>\n",
       "      <td>blue</td>\n",
       "      <td>casual</td>\n",
       "      <td>blue</td>\n",
       "      <td>short_sleeve</td>\n",
       "      <td>white</td>\n",
       "      <td>long</td>\n",
       "      <td>clothes</td>\n",
       "      <td>3</td>\n",
       "      <td>9</td>\n",
       "      <td>no</td>\n",
       "    </tr>\n",
       "  </tbody>\n",
       "</table>\n",
       "</div>"
      ],
      "text/plain": [
       "   No        Date      Time    Race  Gender Body_Size  Age_Range With_Kids  \\\n",
       "0   1  19/10/2015  20:17:50   malay     NaN  moderate        NaN       yes   \n",
       "1   2  19/10/2015  20:28:42  indian    male      thin       32.0        no   \n",
       "2   3  19/10/2015  20:58:31   malay  female       NaN       30.0        no   \n",
       "3   4  19/10/2015  21:31:28  indian    male      thin       51.0        no   \n",
       "4   5  19/10/2015  21:40:28  indian    male  moderate       34.0        no   \n",
       "\n",
       "  Kids_Category Basket_Size Basket_colour  Attire Shirt_Colour    shirt_type  \\\n",
       "0         young         big           red  casual         blue  short_sleeve   \n",
       "1       no_kids         big         green  casual          NaN  short_sleeve   \n",
       "2       no_kids         big          blue  casual          red  short_sleeve   \n",
       "3       no_kids         NaN         black  casual          NaN  short_sleeve   \n",
       "4       no_kids         big          blue  casual         blue  short_sleeve   \n",
       "\n",
       "  Pants_Colour pants_type Wash_Item  Washer_No  Dryer_No Spectacles  \n",
       "0        black      short   clothes          3        10         no  \n",
       "1   blue_jeans       long       NaN          6         9         no  \n",
       "2        black       long       NaN          4        10         no  \n",
       "3       yellow      short   clothes          5         9         no  \n",
       "4        white       long   clothes          3         9         no  "
      ]
     },
     "execution_count": 22,
     "metadata": {},
     "output_type": "execute_result"
    }
   ],
   "source": [
    "df.head()"
   ]
  },
  {
   "cell_type": "code",
   "execution_count": 23,
   "metadata": {},
   "outputs": [],
   "source": [
    "df=(df.pipe(change_to_dateTime)\n",
    "                .pipe(get_day_col)\n",
    "                .pipe(get_month_col)\n",
    "                .pipe(fill_age)\n",
    "                .pipe(fill_withKids_yes)\n",
    "                .pipe(fill_withKids_no)\n",
    "                .pipe(fill_null_val)\n",
    "             )"
   ]
  },
  {
   "cell_type": "code",
   "execution_count": 7,
   "metadata": {},
   "outputs": [
    {
     "data": {
      "text/plain": [
       "0.0"
      ]
     },
     "execution_count": 7,
     "metadata": {},
     "output_type": "execute_result"
    }
   ],
   "source": [
    "len(df[df.isnull().any(axis=1)])/len(df)*100\n"
   ]
  },
  {
   "cell_type": "code",
   "execution_count": 8,
   "metadata": {},
   "outputs": [
    {
     "data": {
      "text/plain": [
       "No               0\n",
       "Date             0\n",
       "Time             0\n",
       "Race             0\n",
       "Gender           0\n",
       "Body_Size        0\n",
       "Age_Range        0\n",
       "With_Kids        0\n",
       "Kids_Category    0\n",
       "Basket_Size      0\n",
       "Basket_colour    0\n",
       "Attire           0\n",
       "Shirt_Colour     0\n",
       "shirt_type       0\n",
       "Pants_Colour     0\n",
       "pants_type       0\n",
       "Wash_Item        0\n",
       "Washer_No        0\n",
       "Dryer_No         0\n",
       "Spectacles       0\n",
       "Day              0\n",
       "Month            0\n",
       "dtype: int64"
      ]
     },
     "execution_count": 8,
     "metadata": {},
     "output_type": "execute_result"
    }
   ],
   "source": [
    "df.isnull().sum()"
   ]
  },
  {
   "cell_type": "code",
   "execution_count": 9,
   "metadata": {},
   "outputs": [
    {
     "name": "stdout",
     "output_type": "stream",
     "text": [
      "Race\n",
      " indian        227\n",
      "malay         222\n",
      "chinese       221\n",
      "foreigner      82\n",
      "Unknown        55\n",
      "Name: Race, dtype: int64\n",
      "Gender\n",
      " female     361\n",
      "male       355\n",
      "Unknown     91\n",
      "Name: Gender, dtype: int64\n",
      "Body_Size\n",
      " fat         247\n",
      "moderate    237\n",
      "thin        225\n",
      "Unknown      98\n",
      "Name: Body_Size, dtype: int64\n",
      "With_Kids\n",
      " no     603\n",
      "yes    204\n",
      "Name: With_Kids, dtype: int64\n",
      "Kids_Category\n",
      " no_kids     603\n",
      "young        90\n",
      "toddler      47\n",
      "baby         36\n",
      "Unknown      30\n",
      "toddler       1\n",
      "Name: Kids_Category, dtype: int64\n"
     ]
    }
   ],
   "source": [
    "print('Race\\n',df['Race'].value_counts())\n",
    "print('Gender\\n',df['Gender'].value_counts())\n",
    "print('Body_Size\\n',df['Body_Size'].value_counts())\n",
    "print('With_Kids\\n',df['With_Kids'].value_counts())\n",
    "print('Kids_Category\\n',df['Kids_Category'].value_counts())\n",
    "\n"
   ]
  },
  {
   "cell_type": "code",
   "execution_count": 10,
   "metadata": {
    "scrolled": true
   },
   "outputs": [
    {
     "data": {
      "text/html": [
       "<div>\n",
       "<style scoped>\n",
       "    .dataframe tbody tr th:only-of-type {\n",
       "        vertical-align: middle;\n",
       "    }\n",
       "\n",
       "    .dataframe tbody tr th {\n",
       "        vertical-align: top;\n",
       "    }\n",
       "\n",
       "    .dataframe thead th {\n",
       "        text-align: right;\n",
       "    }\n",
       "</style>\n",
       "<table border=\"1\" class=\"dataframe\">\n",
       "  <thead>\n",
       "    <tr style=\"text-align: right;\">\n",
       "      <th></th>\n",
       "      <th>No</th>\n",
       "      <th>Age_Range</th>\n",
       "      <th>Washer_No</th>\n",
       "      <th>Dryer_No</th>\n",
       "      <th>Day</th>\n",
       "      <th>Month</th>\n",
       "    </tr>\n",
       "  </thead>\n",
       "  <tbody>\n",
       "    <tr>\n",
       "      <th>count</th>\n",
       "      <td>807.000000</td>\n",
       "      <td>807.000000</td>\n",
       "      <td>807.000000</td>\n",
       "      <td>807.000000</td>\n",
       "      <td>807.00000</td>\n",
       "      <td>807.000000</td>\n",
       "    </tr>\n",
       "    <tr>\n",
       "      <th>mean</th>\n",
       "      <td>404.000000</td>\n",
       "      <td>42.040892</td>\n",
       "      <td>4.465923</td>\n",
       "      <td>8.418835</td>\n",
       "      <td>21.80917</td>\n",
       "      <td>10.745973</td>\n",
       "    </tr>\n",
       "    <tr>\n",
       "      <th>std</th>\n",
       "      <td>233.105126</td>\n",
       "      <td>7.758262</td>\n",
       "      <td>1.152628</td>\n",
       "      <td>1.142694</td>\n",
       "      <td>8.49351</td>\n",
       "      <td>0.481577</td>\n",
       "    </tr>\n",
       "    <tr>\n",
       "      <th>min</th>\n",
       "      <td>1.000000</td>\n",
       "      <td>28.000000</td>\n",
       "      <td>3.000000</td>\n",
       "      <td>7.000000</td>\n",
       "      <td>1.00000</td>\n",
       "      <td>10.000000</td>\n",
       "    </tr>\n",
       "    <tr>\n",
       "      <th>25%</th>\n",
       "      <td>202.500000</td>\n",
       "      <td>36.000000</td>\n",
       "      <td>3.000000</td>\n",
       "      <td>7.000000</td>\n",
       "      <td>20.00000</td>\n",
       "      <td>10.000000</td>\n",
       "    </tr>\n",
       "    <tr>\n",
       "      <th>50%</th>\n",
       "      <td>404.000000</td>\n",
       "      <td>42.000000</td>\n",
       "      <td>4.000000</td>\n",
       "      <td>8.000000</td>\n",
       "      <td>24.00000</td>\n",
       "      <td>11.000000</td>\n",
       "    </tr>\n",
       "    <tr>\n",
       "      <th>75%</th>\n",
       "      <td>605.500000</td>\n",
       "      <td>49.000000</td>\n",
       "      <td>6.000000</td>\n",
       "      <td>9.000000</td>\n",
       "      <td>28.00000</td>\n",
       "      <td>11.000000</td>\n",
       "    </tr>\n",
       "    <tr>\n",
       "      <th>max</th>\n",
       "      <td>807.000000</td>\n",
       "      <td>55.000000</td>\n",
       "      <td>6.000000</td>\n",
       "      <td>10.000000</td>\n",
       "      <td>30.00000</td>\n",
       "      <td>12.000000</td>\n",
       "    </tr>\n",
       "  </tbody>\n",
       "</table>\n",
       "</div>"
      ],
      "text/plain": [
       "               No   Age_Range   Washer_No    Dryer_No        Day       Month\n",
       "count  807.000000  807.000000  807.000000  807.000000  807.00000  807.000000\n",
       "mean   404.000000   42.040892    4.465923    8.418835   21.80917   10.745973\n",
       "std    233.105126    7.758262    1.152628    1.142694    8.49351    0.481577\n",
       "min      1.000000   28.000000    3.000000    7.000000    1.00000   10.000000\n",
       "25%    202.500000   36.000000    3.000000    7.000000   20.00000   10.000000\n",
       "50%    404.000000   42.000000    4.000000    8.000000   24.00000   11.000000\n",
       "75%    605.500000   49.000000    6.000000    9.000000   28.00000   11.000000\n",
       "max    807.000000   55.000000    6.000000   10.000000   30.00000   12.000000"
      ]
     },
     "execution_count": 10,
     "metadata": {},
     "output_type": "execute_result"
    }
   ],
   "source": [
    "df.describe()"
   ]
  },
  {
   "cell_type": "code",
   "execution_count": 11,
   "metadata": {},
   "outputs": [
    {
     "name": "stdout",
     "output_type": "stream",
     "text": [
      "<class 'pandas.core.frame.DataFrame'>\n",
      "RangeIndex: 807 entries, 0 to 806\n",
      "Data columns (total 22 columns):\n",
      " #   Column         Non-Null Count  Dtype         \n",
      "---  ------         --------------  -----         \n",
      " 0   No             807 non-null    int64         \n",
      " 1   Date           807 non-null    datetime64[ns]\n",
      " 2   Time           807 non-null    object        \n",
      " 3   Race           807 non-null    object        \n",
      " 4   Gender         807 non-null    object        \n",
      " 5   Body_Size      807 non-null    object        \n",
      " 6   Age_Range      807 non-null    float64       \n",
      " 7   With_Kids      807 non-null    object        \n",
      " 8   Kids_Category  807 non-null    object        \n",
      " 9   Basket_Size    807 non-null    object        \n",
      " 10  Basket_colour  807 non-null    object        \n",
      " 11  Attire         807 non-null    object        \n",
      " 12  Shirt_Colour   807 non-null    object        \n",
      " 13  shirt_type     807 non-null    object        \n",
      " 14  Pants_Colour   807 non-null    object        \n",
      " 15  pants_type     807 non-null    object        \n",
      " 16  Wash_Item      807 non-null    object        \n",
      " 17  Washer_No      807 non-null    int64         \n",
      " 18  Dryer_No       807 non-null    int64         \n",
      " 19  Spectacles     807 non-null    object        \n",
      " 20  Day            807 non-null    int64         \n",
      " 21  Month          807 non-null    int64         \n",
      "dtypes: datetime64[ns](1), float64(1), int64(5), object(15)\n",
      "memory usage: 138.8+ KB\n"
     ]
    }
   ],
   "source": [
    "df.info()"
   ]
  },
  {
   "cell_type": "code",
   "execution_count": 12,
   "metadata": {
    "scrolled": true
   },
   "outputs": [
    {
     "name": "stdout",
     "output_type": "stream",
     "text": [
      "<class 'pandas.core.frame.DataFrame'>\n",
      "RangeIndex: 807 entries, 0 to 806\n",
      "Data columns (total 44 columns):\n",
      " #   Column           Non-Null Count  Dtype         \n",
      "---  ------           --------------  -----         \n",
      " 0   No               807 non-null    int64         \n",
      " 1   Date             807 non-null    datetime64[ns]\n",
      " 2   Time             807 non-null    object        \n",
      " 3   Race             807 non-null    object        \n",
      " 4   Body_Size        807 non-null    object        \n",
      " 5   Age_Range        807 non-null    float64       \n",
      " 6   With_Kids        807 non-null    object        \n",
      " 7   Kids_Category    807 non-null    object        \n",
      " 8   Basket_Size      807 non-null    object        \n",
      " 9   Shirt_Colour     807 non-null    object        \n",
      " 10  shirt_type       807 non-null    object        \n",
      " 11  Pants_Colour     807 non-null    object        \n",
      " 12  pants_type       807 non-null    object        \n",
      " 13  Wash_Item        807 non-null    object        \n",
      " 14  Spectacles       807 non-null    object        \n",
      " 15  Day              807 non-null    int64         \n",
      " 16  Month            807 non-null    int64         \n",
      " 17  BC_Unknown       807 non-null    uint8         \n",
      " 18  BC_black         807 non-null    uint8         \n",
      " 19  BC_blue          807 non-null    uint8         \n",
      " 20  BC_brown         807 non-null    uint8         \n",
      " 21  BC_green         807 non-null    uint8         \n",
      " 22  BC_grey          807 non-null    uint8         \n",
      " 23  BC_orange        807 non-null    uint8         \n",
      " 24  BC_pink          807 non-null    uint8         \n",
      " 25  BC_purple        807 non-null    uint8         \n",
      " 26  BC_red           807 non-null    uint8         \n",
      " 27  BC_white         807 non-null    uint8         \n",
      " 28  BC_yellow        807 non-null    uint8         \n",
      " 29  Gen_Unknown      807 non-null    uint8         \n",
      " 30  Gen_female       807 non-null    uint8         \n",
      " 31  Gen_male         807 non-null    uint8         \n",
      " 32  Att_Unknown      807 non-null    uint8         \n",
      " 33  Att_casual       807 non-null    uint8         \n",
      " 34  Att_formal       807 non-null    uint8         \n",
      " 35  Att_traditional  807 non-null    uint8         \n",
      " 36  Wash_3           807 non-null    uint8         \n",
      " 37  Wash_4           807 non-null    uint8         \n",
      " 38  Wash_5           807 non-null    uint8         \n",
      " 39  Wash_6           807 non-null    uint8         \n",
      " 40  Dry_7            807 non-null    uint8         \n",
      " 41  Dry_8            807 non-null    uint8         \n",
      " 42  Dry_9            807 non-null    uint8         \n",
      " 43  Dry_10           807 non-null    uint8         \n",
      "dtypes: datetime64[ns](1), float64(1), int64(3), object(12), uint8(27)\n",
      "memory usage: 128.6+ KB\n"
     ]
    }
   ],
   "source": [
    "df_oneHot = pd.get_dummies(df, prefix='BC', columns=['Basket_colour'])\n",
    "df_oneHot1 = pd.get_dummies(df_oneHot, prefix='Gen', columns=['Gender'])\n",
    "df_oneHot2 = pd.get_dummies(df_oneHot1, prefix='Att', columns=['Attire'])\n",
    "df_oneHot3 = pd.get_dummies(df_oneHot2, prefix='Wash', columns=['Washer_No'])\n",
    "df_oneHot4 = pd.get_dummies(df_oneHot3, prefix='Dry', columns=['Dryer_No'])\n",
    "\n",
    "#df_oneHot\n",
    "df_oneHot4.info()"
   ]
  },
  {
   "cell_type": "code",
   "execution_count": 13,
   "metadata": {
    "scrolled": true
   },
   "outputs": [],
   "source": [
    "df1=df_oneHot4.drop(['No'], axis = 1) "
   ]
  },
  {
   "cell_type": "code",
   "execution_count": 14,
   "metadata": {
    "scrolled": true
   },
   "outputs": [
    {
     "data": {
      "text/plain": [
       "<matplotlib.axes._subplots.AxesSubplot at 0x1cef18c7248>"
      ]
     },
     "execution_count": 14,
     "metadata": {},
     "output_type": "execute_result"
    },
    {
     "data": {
      "image/png": "[encoded data removed]",
      "text/plain": [
       "<Figure size 792x432 with 2 Axes>"
      ]
     },
     "metadata": {},
     "output_type": "display_data"
    }
   ],
   "source": [
    "sns.set(rc={'figure.figsize':(11,6)})\n",
    "#correlation matrix\n",
    "correlation_matrix = df1.iloc[:,:].corr().round(1)\n",
    "\n",
    "sns.heatmap(data=correlation_matrix, annot=True)\n"
   ]
  },
  {
   "cell_type": "code",
   "execution_count": 17,
   "metadata": {},
   "outputs": [
    {
     "data": {
      "text/plain": [
       "<matplotlib.axes._subplots.AxesSubplot at 0x1cef2911608>"
      ]
     },
     "execution_count": 17,
     "metadata": {},
     "output_type": "execute_result"
    },
    {
     "data": {
      "image/png": "[encoded data removed]",
      "text/plain": [
       "<Figure size 360x432 with 1 Axes>"
      ]
     },
     "metadata": {},
     "output_type": "display_data"
    }
   ],
   "source": [
    "df.boxplot('Age_Range','Basket_colour',rot = 30,figsize=(5,6))"
   ]
  },
  {
   "cell_type": "code",
   "execution_count": 16,
   "metadata": {},
   "outputs": [],
   "source": [
    "#hi"
   ]
  },
  {
   "cell_type": "code",
   "execution_count": null,
   "metadata": {},
   "outputs": [],
   "source": []
  }
 ],
 "metadata": {
  "kernelspec": {
   "display_name": "Python 3",
   "language": "python",
   "name": "python3"
  },
  "language_info": {
   "codemirror_mode": {
    "name": "ipython",
    "version": 3
   },
   "file_extension": ".py",
   "mimetype": "text/x-python",
   "name": "python",
   "nbconvert_exporter": "python",
   "pygments_lexer": "ipython3",
   "version": "3.7.6"
  }
 },
 "nbformat": 4,
 "nbformat_minor": 4
}
