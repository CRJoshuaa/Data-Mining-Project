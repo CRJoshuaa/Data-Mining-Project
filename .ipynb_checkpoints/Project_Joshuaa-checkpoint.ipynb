{
 "cells": [
  {
   "cell_type": "code",
   "execution_count": 48,
   "metadata": {},
   "outputs": [],
   "source": [
    "import numpy as np\n",
    "import pandas as pd\n",
    "import math"
   ]
  },
  {
   "cell_type": "code",
   "execution_count": 88,
   "metadata": {},
   "outputs": [],
   "source": [
    "df=pd.read_csv('Laundry_Data.csv')"
   ]
  },
  {
   "cell_type": "markdown",
   "metadata": {},
   "source": [
    "# Data Cleaning"
   ]
  },
  {
   "cell_type": "code",
   "execution_count": 89,
   "metadata": {},
   "outputs": [
    {
     "name": "stdout",
     "output_type": "stream",
     "text": [
      "<class 'pandas.core.frame.DataFrame'>\n",
      "RangeIndex: 807 entries, 0 to 806\n",
      "Data columns (total 20 columns):\n",
      " #   Column         Non-Null Count  Dtype  \n",
      "---  ------         --------------  -----  \n",
      " 0   No             807 non-null    int64  \n",
      " 1   Date           807 non-null    object \n",
      " 2   Time           807 non-null    object \n",
      " 3   Race           752 non-null    object \n",
      " 4   Gender         716 non-null    object \n",
      " 5   Body_Size      709 non-null    object \n",
      " 6   Age_Range      756 non-null    float64\n",
      " 7   With_Kids      725 non-null    object \n",
      " 8   Kids_Category  777 non-null    object \n",
      " 9   Basket_Size    752 non-null    object \n",
      " 10  Basket_colour  717 non-null    object \n",
      " 11  Attire         776 non-null    object \n",
      " 12  Shirt_Colour   720 non-null    object \n",
      " 13  shirt_type     770 non-null    object \n",
      " 14  Pants_Colour   802 non-null    object \n",
      " 15  pants_type     712 non-null    object \n",
      " 16  Wash_Item      718 non-null    object \n",
      " 17  Washer_No      807 non-null    int64  \n",
      " 18  Dryer_No       807 non-null    int64  \n",
      " 19  Spectacles     807 non-null    object \n",
      "dtypes: float64(1), int64(3), object(16)\n",
      "memory usage: 126.2+ KB\n"
     ]
    }
   ],
   "source": [
    "df.info()"
   ]
  },
  {
   "cell_type": "code",
   "execution_count": 98,
   "metadata": {},
   "outputs": [],
   "source": [
    "#age range clean(mean value)\n",
    "df['Age_Range']=df['Age_Range'].fillna(df['Age_Range'].mean().round())\n",
    "\n",
    "df[\"With_Kids\"] = np.where(df[\"Kids_Category\"]!='no_kids',df['With_Kids'],'no')\n",
    "df[\"With_Kids\"] = np.where(df[\"Kids_Category\"]=='no_kids',df['With_Kids'],'yes')\n",
    "\n",
    "df[\"Kids_Category\"] = np.where(df[\"With_Kids\"]=='yes',df['Kids_Category'],'no_kids')\n",
    "df=df.fillna('Unknown')"
   ]
  },
  {
   "cell_type": "code",
   "execution_count": 90,
   "metadata": {},
   "outputs": [
    {
     "data": {
      "text/plain": [
       "67.53407682775713"
      ]
     },
     "execution_count": 90,
     "metadata": {},
     "output_type": "execute_result"
    }
   ],
   "source": [
    "len(df[df.isnull().any(axis=1)])/len(df)*100"
   ]
  },
  {
   "cell_type": "code",
   "execution_count": 95,
   "metadata": {},
   "outputs": [
    {
     "data": {
      "text/plain": [
       "No                0\n",
       "Date              0\n",
       "Time              0\n",
       "Race             55\n",
       "Gender           91\n",
       "Body_Size        98\n",
       "Age_Range        51\n",
       "With_Kids         0\n",
       "Kids_Category    30\n",
       "Basket_Size      55\n",
       "Basket_colour    90\n",
       "Attire           31\n",
       "Shirt_Colour     87\n",
       "shirt_type       37\n",
       "Pants_Colour      5\n",
       "pants_type       95\n",
       "Wash_Item        89\n",
       "Washer_No         0\n",
       "Dryer_No          0\n",
       "Spectacles        0\n",
       "dtype: int64"
      ]
     },
     "execution_count": 95,
     "metadata": {},
     "output_type": "execute_result"
    }
   ],
   "source": [
    "df.isnull().sum()\n"
   ]
  },
  {
   "cell_type": "code",
   "execution_count": 99,
   "metadata": {},
   "outputs": [
    {
     "name": "stdout",
     "output_type": "stream",
     "text": [
      "Race\n",
      " indian        227\n",
      "malay         222\n",
      "chinese       221\n",
      "foreigner      82\n",
      "Unknown        55\n",
      "Name: Race, dtype: int64\n",
      "Gender\n",
      " female     361\n",
      "male       355\n",
      "Unknown     91\n",
      "Name: Gender, dtype: int64\n",
      "Body_Size\n",
      " fat         247\n",
      "moderate    237\n",
      "thin        225\n",
      "Unknown      98\n",
      "Name: Body_Size, dtype: int64\n",
      "With_Kids\n",
      " no     603\n",
      "yes    204\n",
      "Name: With_Kids, dtype: int64\n",
      "Kids_Category\n",
      " no_kids     603\n",
      "young        90\n",
      "toddler      47\n",
      "baby         36\n",
      "Unknown      30\n",
      "toddler       1\n",
      "Name: Kids_Category, dtype: int64\n"
     ]
    }
   ],
   "source": [
    "print('Race\\n',df['Race'].value_counts())\n",
    "print('Gender\\n',df['Gender'].value_counts())\n",
    "print('Body_Size\\n',df['Body_Size'].value_counts())\n",
    "print('With_Kids\\n',df['With_Kids'].value_counts())\n",
    "print('Kids_Category\\n',df['Kids_Category'].value_counts())\n",
    "\n"
   ]
  }
 ],
 "metadata": {
  "kernelspec": {
   "display_name": "Python 3",
   "language": "python",
   "name": "python3"
  },
  "language_info": {
   "codemirror_mode": {
    "name": "ipython",
    "version": 3
   },
   "file_extension": ".py",
   "mimetype": "text/x-python",
   "name": "python",
   "nbconvert_exporter": "python",
   "pygments_lexer": "ipython3",
   "version": "3.7.7"
  }
 },
 "nbformat": 4,
 "nbformat_minor": 4
}
