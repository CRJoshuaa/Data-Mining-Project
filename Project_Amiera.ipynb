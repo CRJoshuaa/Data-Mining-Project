{
 "cells": [
  {
   "cell_type": "code",
   "execution_count": 16,
   "metadata": {},
   "outputs": [],
   "source": [
    "import pandas as pd\n",
    "import numpy as np\n",
    "from sklearn import datasets\n",
    "import seaborn as sns #visualisation\n",
    "import matplotlib.pyplot as plt #visualisation\n",
    "%matplotlib inline \n",
    "sns.set(color_codes=True)"
   ]
  },
  {
   "cell_type": "code",
   "execution_count": 4,
   "metadata": {},
   "outputs": [],
   "source": [
    "df=pd.read_csv('Laundry_Data.csv')"
   ]
  },
  {
   "cell_type": "markdown",
   "metadata": {},
   "source": [
    "# Data Cleaning\n"
   ]
  },
  {
   "cell_type": "code",
   "execution_count": 17,
   "metadata": {},
   "outputs": [
    {
     "name": "stdout",
     "output_type": "stream",
     "text": [
      "<class 'pandas.core.frame.DataFrame'>\n",
      "RangeIndex: 807 entries, 0 to 806\n",
      "Data columns (total 22 columns):\n",
      "No               807 non-null int64\n",
      "Date             807 non-null datetime64[ns]\n",
      "Time             807 non-null object\n",
      "Race             807 non-null object\n",
      "Gender           807 non-null object\n",
      "Body_Size        807 non-null object\n",
      "Age_Range        807 non-null float64\n",
      "With_Kids        807 non-null object\n",
      "Kids_Category    807 non-null object\n",
      "Basket_Size      807 non-null object\n",
      "Basket_colour    807 non-null object\n",
      "Attire           807 non-null object\n",
      "Shirt_Colour     807 non-null object\n",
      "shirt_type       807 non-null object\n",
      "Pants_Colour     807 non-null object\n",
      "pants_type       807 non-null object\n",
      "Wash_Item        807 non-null object\n",
      "Washer_No        807 non-null int64\n",
      "Dryer_No         807 non-null int64\n",
      "Spectacles       807 non-null object\n",
      "Day              807 non-null int64\n",
      "Month            807 non-null int64\n",
      "dtypes: datetime64[ns](1), float64(1), int64(5), object(15)\n",
      "memory usage: 138.8+ KB\n"
     ]
    }
   ],
   "source": [
    "df.info()\n",
    "#df"
   ]
  },
  {
   "cell_type": "code",
   "execution_count": 6,
   "metadata": {},
   "outputs": [],
   "source": [
    "def fill_null_val(df):\n",
    "    return df.fillna('Unknown')\n",
    "\n",
    "def change_to_dateTime(df):\n",
    "    datetimeCol=pd.to_datetime(df['Date'], infer_datetime_format=True)\n",
    "    return df.assign(Date=datetimeCol)\n",
    "\n",
    "def get_day_col(df):\n",
    "    dayCol=pd.DatetimeIndex(df['Date']).day\n",
    "    return df.assign(Day=dayCol)\n",
    "\n",
    "def get_month_col(df):\n",
    "    monthCol=pd.DatetimeIndex(df['Date']).month\n",
    "    return df.assign(Month=monthCol)\n",
    "\n",
    "def fill_age(df):\n",
    "    age=df['Age_Range'].fillna(round(df['Age_Range'].mean()))\n",
    "    return df.assign(Age_Range=age)\n",
    "\n",
    "def fill_withKids_yes(df):\n",
    "    with_kids = np.where(df[\"Kids_Category\"]=='no_kids',df['With_Kids'],'yes')\n",
    "    return df.assign(With_Kids=with_kids)\n",
    "\n",
    "def fill_withKids_no(df):\n",
    "    with_kids = np.where(df[\"Kids_Category\"]!='no_kids',df['With_Kids'],'no')\n",
    "    return df.assign(With_Kids=with_kids)"
   ]
  },
  {
   "cell_type": "code",
   "execution_count": 7,
   "metadata": {},
   "outputs": [
    {
     "data": {
      "text/html": [
       "<div>\n",
       "<style scoped>\n",
       "    .dataframe tbody tr th:only-of-type {\n",
       "        vertical-align: middle;\n",
       "    }\n",
       "\n",
       "    .dataframe tbody tr th {\n",
       "        vertical-align: top;\n",
       "    }\n",
       "\n",
       "    .dataframe thead th {\n",
       "        text-align: right;\n",
       "    }\n",
       "</style>\n",
       "<table border=\"1\" class=\"dataframe\">\n",
       "  <thead>\n",
       "    <tr style=\"text-align: right;\">\n",
       "      <th></th>\n",
       "      <th>No</th>\n",
       "      <th>Date</th>\n",
       "      <th>Time</th>\n",
       "      <th>Race</th>\n",
       "      <th>Gender</th>\n",
       "      <th>Body_Size</th>\n",
       "      <th>Age_Range</th>\n",
       "      <th>With_Kids</th>\n",
       "      <th>Kids_Category</th>\n",
       "      <th>Basket_Size</th>\n",
       "      <th>Basket_colour</th>\n",
       "      <th>Attire</th>\n",
       "      <th>Shirt_Colour</th>\n",
       "      <th>shirt_type</th>\n",
       "      <th>Pants_Colour</th>\n",
       "      <th>pants_type</th>\n",
       "      <th>Wash_Item</th>\n",
       "      <th>Washer_No</th>\n",
       "      <th>Dryer_No</th>\n",
       "      <th>Spectacles</th>\n",
       "    </tr>\n",
       "  </thead>\n",
       "  <tbody>\n",
       "    <tr>\n",
       "      <td>0</td>\n",
       "      <td>1</td>\n",
       "      <td>19/10/2015</td>\n",
       "      <td>20:17:50</td>\n",
       "      <td>malay</td>\n",
       "      <td>NaN</td>\n",
       "      <td>moderate</td>\n",
       "      <td>NaN</td>\n",
       "      <td>yes</td>\n",
       "      <td>young</td>\n",
       "      <td>big</td>\n",
       "      <td>red</td>\n",
       "      <td>casual</td>\n",
       "      <td>blue</td>\n",
       "      <td>short_sleeve</td>\n",
       "      <td>black</td>\n",
       "      <td>short</td>\n",
       "      <td>clothes</td>\n",
       "      <td>3</td>\n",
       "      <td>10</td>\n",
       "      <td>no</td>\n",
       "    </tr>\n",
       "    <tr>\n",
       "      <td>1</td>\n",
       "      <td>2</td>\n",
       "      <td>19/10/2015</td>\n",
       "      <td>20:28:42</td>\n",
       "      <td>indian</td>\n",
       "      <td>male</td>\n",
       "      <td>thin</td>\n",
       "      <td>32.0</td>\n",
       "      <td>no</td>\n",
       "      <td>no_kids</td>\n",
       "      <td>big</td>\n",
       "      <td>green</td>\n",
       "      <td>casual</td>\n",
       "      <td>NaN</td>\n",
       "      <td>short_sleeve</td>\n",
       "      <td>blue_jeans</td>\n",
       "      <td>long</td>\n",
       "      <td>NaN</td>\n",
       "      <td>6</td>\n",
       "      <td>9</td>\n",
       "      <td>no</td>\n",
       "    </tr>\n",
       "    <tr>\n",
       "      <td>2</td>\n",
       "      <td>3</td>\n",
       "      <td>19/10/2015</td>\n",
       "      <td>20:58:31</td>\n",
       "      <td>malay</td>\n",
       "      <td>female</td>\n",
       "      <td>NaN</td>\n",
       "      <td>30.0</td>\n",
       "      <td>no</td>\n",
       "      <td>no_kids</td>\n",
       "      <td>big</td>\n",
       "      <td>blue</td>\n",
       "      <td>casual</td>\n",
       "      <td>red</td>\n",
       "      <td>short_sleeve</td>\n",
       "      <td>black</td>\n",
       "      <td>long</td>\n",
       "      <td>NaN</td>\n",
       "      <td>4</td>\n",
       "      <td>10</td>\n",
       "      <td>no</td>\n",
       "    </tr>\n",
       "    <tr>\n",
       "      <td>3</td>\n",
       "      <td>4</td>\n",
       "      <td>19/10/2015</td>\n",
       "      <td>21:31:28</td>\n",
       "      <td>indian</td>\n",
       "      <td>male</td>\n",
       "      <td>thin</td>\n",
       "      <td>51.0</td>\n",
       "      <td>no</td>\n",
       "      <td>no_kids</td>\n",
       "      <td>NaN</td>\n",
       "      <td>black</td>\n",
       "      <td>casual</td>\n",
       "      <td>NaN</td>\n",
       "      <td>short_sleeve</td>\n",
       "      <td>yellow</td>\n",
       "      <td>short</td>\n",
       "      <td>clothes</td>\n",
       "      <td>5</td>\n",
       "      <td>9</td>\n",
       "      <td>no</td>\n",
       "    </tr>\n",
       "    <tr>\n",
       "      <td>4</td>\n",
       "      <td>5</td>\n",
       "      <td>19/10/2015</td>\n",
       "      <td>21:40:28</td>\n",
       "      <td>indian</td>\n",
       "      <td>male</td>\n",
       "      <td>moderate</td>\n",
       "      <td>34.0</td>\n",
       "      <td>no</td>\n",
       "      <td>no_kids</td>\n",
       "      <td>big</td>\n",
       "      <td>blue</td>\n",
       "      <td>casual</td>\n",
       "      <td>blue</td>\n",
       "      <td>short_sleeve</td>\n",
       "      <td>white</td>\n",
       "      <td>long</td>\n",
       "      <td>clothes</td>\n",
       "      <td>3</td>\n",
       "      <td>9</td>\n",
       "      <td>no</td>\n",
       "    </tr>\n",
       "  </tbody>\n",
       "</table>\n",
       "</div>"
      ],
      "text/plain": [
       "   No        Date      Time    Race  Gender Body_Size  Age_Range With_Kids  \\\n",
       "0   1  19/10/2015  20:17:50   malay     NaN  moderate        NaN       yes   \n",
       "1   2  19/10/2015  20:28:42  indian    male      thin       32.0        no   \n",
       "2   3  19/10/2015  20:58:31   malay  female       NaN       30.0        no   \n",
       "3   4  19/10/2015  21:31:28  indian    male      thin       51.0        no   \n",
       "4   5  19/10/2015  21:40:28  indian    male  moderate       34.0        no   \n",
       "\n",
       "  Kids_Category Basket_Size Basket_colour  Attire Shirt_Colour    shirt_type  \\\n",
       "0         young         big           red  casual         blue  short_sleeve   \n",
       "1       no_kids         big         green  casual          NaN  short_sleeve   \n",
       "2       no_kids         big          blue  casual          red  short_sleeve   \n",
       "3       no_kids         NaN         black  casual          NaN  short_sleeve   \n",
       "4       no_kids         big          blue  casual         blue  short_sleeve   \n",
       "\n",
       "  Pants_Colour pants_type Wash_Item  Washer_No  Dryer_No Spectacles  \n",
       "0        black      short   clothes          3        10         no  \n",
       "1   blue_jeans       long       NaN          6         9         no  \n",
       "2        black       long       NaN          4        10         no  \n",
       "3       yellow      short   clothes          5         9         no  \n",
       "4        white       long   clothes          3         9         no  "
      ]
     },
     "execution_count": 7,
     "metadata": {},
     "output_type": "execute_result"
    }
   ],
   "source": [
    "df.head()"
   ]
  },
  {
   "cell_type": "code",
   "execution_count": 8,
   "metadata": {},
   "outputs": [],
   "source": [
    "df=(df.pipe(change_to_dateTime)\n",
    "                .pipe(get_day_col)\n",
    "                .pipe(get_month_col)\n",
    "                .pipe(fill_age)\n",
    "                .pipe(fill_withKids_yes)\n",
    "                .pipe(fill_withKids_no)\n",
    "                .pipe(fill_null_val)\n",
    "             )"
   ]
  },
  {
   "cell_type": "code",
   "execution_count": 9,
   "metadata": {},
   "outputs": [
    {
     "data": {
      "text/plain": [
       "0.0"
      ]
     },
     "execution_count": 9,
     "metadata": {},
     "output_type": "execute_result"
    }
   ],
   "source": [
    "len(df[df.isnull().any(axis=1)])/len(df)*100\n"
   ]
  },
  {
   "cell_type": "code",
   "execution_count": 10,
   "metadata": {},
   "outputs": [
    {
     "data": {
      "text/plain": [
       "No               0\n",
       "Date             0\n",
       "Time             0\n",
       "Race             0\n",
       "Gender           0\n",
       "Body_Size        0\n",
       "Age_Range        0\n",
       "With_Kids        0\n",
       "Kids_Category    0\n",
       "Basket_Size      0\n",
       "Basket_colour    0\n",
       "Attire           0\n",
       "Shirt_Colour     0\n",
       "shirt_type       0\n",
       "Pants_Colour     0\n",
       "pants_type       0\n",
       "Wash_Item        0\n",
       "Washer_No        0\n",
       "Dryer_No         0\n",
       "Spectacles       0\n",
       "Day              0\n",
       "Month            0\n",
       "dtype: int64"
      ]
     },
     "execution_count": 10,
     "metadata": {},
     "output_type": "execute_result"
    }
   ],
   "source": [
    "df.isnull().sum()"
   ]
  },
  {
   "cell_type": "code",
   "execution_count": 11,
   "metadata": {},
   "outputs": [
    {
     "name": "stdout",
     "output_type": "stream",
     "text": [
      "Race\n",
      " indian        227\n",
      "malay         222\n",
      "chinese       221\n",
      "foreigner      82\n",
      "Unknown        55\n",
      "Name: Race, dtype: int64\n",
      "Gender\n",
      " female     361\n",
      "male       355\n",
      "Unknown     91\n",
      "Name: Gender, dtype: int64\n",
      "Body_Size\n",
      " fat         247\n",
      "moderate    237\n",
      "thin        225\n",
      "Unknown      98\n",
      "Name: Body_Size, dtype: int64\n",
      "With_Kids\n",
      " no     603\n",
      "yes    204\n",
      "Name: With_Kids, dtype: int64\n",
      "Kids_Category\n",
      " no_kids     603\n",
      "young        90\n",
      "toddler      47\n",
      "baby         36\n",
      "Unknown      30\n",
      "toddler       1\n",
      "Name: Kids_Category, dtype: int64\n"
     ]
    }
   ],
   "source": [
    "print('Race\\n',df['Race'].value_counts())\n",
    "print('Gender\\n',df['Gender'].value_counts())\n",
    "print('Body_Size\\n',df['Body_Size'].value_counts())\n",
    "print('With_Kids\\n',df['With_Kids'].value_counts())\n",
    "print('Kids_Category\\n',df['Kids_Category'].value_counts())\n",
    "\n"
   ]
  },
  {
   "cell_type": "code",
   "execution_count": 12,
   "metadata": {},
   "outputs": [
    {
     "data": {
      "text/html": [
       "<div>\n",
       "<style scoped>\n",
       "    .dataframe tbody tr th:only-of-type {\n",
       "        vertical-align: middle;\n",
       "    }\n",
       "\n",
       "    .dataframe tbody tr th {\n",
       "        vertical-align: top;\n",
       "    }\n",
       "\n",
       "    .dataframe thead th {\n",
       "        text-align: right;\n",
       "    }\n",
       "</style>\n",
       "<table border=\"1\" class=\"dataframe\">\n",
       "  <thead>\n",
       "    <tr style=\"text-align: right;\">\n",
       "      <th></th>\n",
       "      <th>No</th>\n",
       "      <th>Age_Range</th>\n",
       "      <th>Washer_No</th>\n",
       "      <th>Dryer_No</th>\n",
       "      <th>Day</th>\n",
       "      <th>Month</th>\n",
       "    </tr>\n",
       "  </thead>\n",
       "  <tbody>\n",
       "    <tr>\n",
       "      <td>count</td>\n",
       "      <td>807.000000</td>\n",
       "      <td>807.000000</td>\n",
       "      <td>807.000000</td>\n",
       "      <td>807.000000</td>\n",
       "      <td>807.00000</td>\n",
       "      <td>807.000000</td>\n",
       "    </tr>\n",
       "    <tr>\n",
       "      <td>mean</td>\n",
       "      <td>404.000000</td>\n",
       "      <td>42.040892</td>\n",
       "      <td>4.465923</td>\n",
       "      <td>8.418835</td>\n",
       "      <td>21.80917</td>\n",
       "      <td>10.745973</td>\n",
       "    </tr>\n",
       "    <tr>\n",
       "      <td>std</td>\n",
       "      <td>233.105126</td>\n",
       "      <td>7.758262</td>\n",
       "      <td>1.152628</td>\n",
       "      <td>1.142694</td>\n",
       "      <td>8.49351</td>\n",
       "      <td>0.481577</td>\n",
       "    </tr>\n",
       "    <tr>\n",
       "      <td>min</td>\n",
       "      <td>1.000000</td>\n",
       "      <td>28.000000</td>\n",
       "      <td>3.000000</td>\n",
       "      <td>7.000000</td>\n",
       "      <td>1.00000</td>\n",
       "      <td>10.000000</td>\n",
       "    </tr>\n",
       "    <tr>\n",
       "      <td>25%</td>\n",
       "      <td>202.500000</td>\n",
       "      <td>36.000000</td>\n",
       "      <td>3.000000</td>\n",
       "      <td>7.000000</td>\n",
       "      <td>20.00000</td>\n",
       "      <td>10.000000</td>\n",
       "    </tr>\n",
       "    <tr>\n",
       "      <td>50%</td>\n",
       "      <td>404.000000</td>\n",
       "      <td>42.000000</td>\n",
       "      <td>4.000000</td>\n",
       "      <td>8.000000</td>\n",
       "      <td>24.00000</td>\n",
       "      <td>11.000000</td>\n",
       "    </tr>\n",
       "    <tr>\n",
       "      <td>75%</td>\n",
       "      <td>605.500000</td>\n",
       "      <td>49.000000</td>\n",
       "      <td>6.000000</td>\n",
       "      <td>9.000000</td>\n",
       "      <td>28.00000</td>\n",
       "      <td>11.000000</td>\n",
       "    </tr>\n",
       "    <tr>\n",
       "      <td>max</td>\n",
       "      <td>807.000000</td>\n",
       "      <td>55.000000</td>\n",
       "      <td>6.000000</td>\n",
       "      <td>10.000000</td>\n",
       "      <td>30.00000</td>\n",
       "      <td>12.000000</td>\n",
       "    </tr>\n",
       "  </tbody>\n",
       "</table>\n",
       "</div>"
      ],
      "text/plain": [
       "               No   Age_Range   Washer_No    Dryer_No        Day       Month\n",
       "count  807.000000  807.000000  807.000000  807.000000  807.00000  807.000000\n",
       "mean   404.000000   42.040892    4.465923    8.418835   21.80917   10.745973\n",
       "std    233.105126    7.758262    1.152628    1.142694    8.49351    0.481577\n",
       "min      1.000000   28.000000    3.000000    7.000000    1.00000   10.000000\n",
       "25%    202.500000   36.000000    3.000000    7.000000   20.00000   10.000000\n",
       "50%    404.000000   42.000000    4.000000    8.000000   24.00000   11.000000\n",
       "75%    605.500000   49.000000    6.000000    9.000000   28.00000   11.000000\n",
       "max    807.000000   55.000000    6.000000   10.000000   30.00000   12.000000"
      ]
     },
     "execution_count": 12,
     "metadata": {},
     "output_type": "execute_result"
    }
   ],
   "source": [
    "df.describe()"
   ]
  },
  {
   "cell_type": "code",
   "execution_count": 24,
   "metadata": {
    "scrolled": true
   },
   "outputs": [
    {
     "data": {
      "text/plain": [
       "<matplotlib.axes._subplots.AxesSubplot at 0x27f059b7208>"
      ]
     },
     "execution_count": 24,
     "metadata": {},
     "output_type": "execute_result"
    },
    {
     "data": {
      "image/png": "[encoded data removed]",
      "text/plain": [
       "<Figure size 2160x720 with 2 Axes>"
      ]
     },
     "metadata": {},
     "output_type": "display_data"
    }
   ],
   "source": [
    "plt.figure(figsize=(30,10))\n",
    "c= df.corr()\n",
    "sns.heatmap(c, vmax=.8, square=True, annot=True, fmt='.2f', annot_kws={'size':15}, cmap=sns.color_palette(\"Blues\") )"
   ]
  },
  {
   "cell_type": "code",
   "execution_count": 27,
   "metadata": {},
   "outputs": [
    {
     "data": {
      "text/plain": [
       "<matplotlib.axes._subplots.AxesSubplot at 0x27f04d4e948>"
      ]
     },
     "execution_count": 27,
     "metadata": {},
     "output_type": "execute_result"
    },
    {
     "data": {
      "image/png": "[encoded data removed]",
      "text/plain": [
       "<Figure size 360x432 with 1 Axes>"
      ]
     },
     "metadata": {},
     "output_type": "display_data"
    }
   ],
   "source": [
    "df.boxplot('Age_Range','Basket_colour',rot = 30,figsize=(5,6))"
   ]
  },
  {
   "cell_type": "code",
   "execution_count": null,
   "metadata": {},
   "outputs": [],
   "source": []
  }
 ],
 "metadata": {
  "kernelspec": {
   "display_name": "Python 3",
   "language": "python",
   "name": "python3"
  },
  "language_info": {
   "codemirror_mode": {
    "name": "ipython",
    "version": 3
   },
   "file_extension": ".py",
   "mimetype": "text/x-python",
   "name": "python",
   "nbconvert_exporter": "python",
   "pygments_lexer": "ipython3",
   "version": "3.7.4"
  }
 },
 "nbformat": 4,
 "nbformat_minor": 4
}
